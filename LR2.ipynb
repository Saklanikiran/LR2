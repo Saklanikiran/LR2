{
 "cells": [
  {
   "cell_type": "markdown",
   "id": "f16b8880-dcc3-4cc6-8efc-ae5bab294894",
   "metadata": {},
   "source": [
    "# Ans : 1"
   ]
  },
  {
   "cell_type": "code",
   "execution_count": null,
   "id": "b7019380-05de-420d-9b63-b8a8df5e08fa",
   "metadata": {},
   "outputs": [],
   "source": []
  },
  {
   "cell_type": "markdown",
   "id": "c8f27bac-7d02-4d4a-8466-37529399c3f1",
   "metadata": {},
   "source": [
    "# Ans : 2"
   ]
  },
  {
   "cell_type": "code",
   "execution_count": null,
   "id": "2ba9d717-a1fc-4736-b92d-3cfc807ce179",
   "metadata": {},
   "outputs": [],
   "source": []
  },
  {
   "cell_type": "markdown",
   "id": "8cad1101-9b74-4acb-bf69-ea990805484e",
   "metadata": {},
   "source": [
    "# Ans : 3"
   ]
  },
  {
   "cell_type": "code",
   "execution_count": null,
   "id": "53098cf6-3c68-4723-9a2c-c419ef2d00e6",
   "metadata": {},
   "outputs": [],
   "source": []
  },
  {
   "cell_type": "markdown",
   "id": "d18b210a-01e0-4a6f-9691-753b747a6915",
   "metadata": {},
   "source": [
    "# Ans : 4"
   ]
  },
  {
   "cell_type": "code",
   "execution_count": null,
   "id": "88c92289-a8eb-49c8-8f06-6fee992958b1",
   "metadata": {},
   "outputs": [],
   "source": []
  },
  {
   "cell_type": "markdown",
   "id": "2cf905a5-8c04-45f4-8726-33283f07aa14",
   "metadata": {},
   "source": [
    "# Ans : 5"
   ]
  },
  {
   "cell_type": "code",
   "execution_count": null,
   "id": "58c0f723-956b-43a8-8075-f767bf5927df",
   "metadata": {},
   "outputs": [],
   "source": []
  },
  {
   "cell_type": "markdown",
   "id": "f7634a23-bbc2-4618-9c40-c32373bfd39e",
   "metadata": {},
   "source": [
    "# Ans : 6"
   ]
  },
  {
   "cell_type": "code",
   "execution_count": null,
   "id": "7ef4e3ab-4999-4db4-ac80-7d3941c7e38b",
   "metadata": {},
   "outputs": [],
   "source": [
    "'''\n"
   ]
  },
  {
   "cell_type": "markdown",
   "id": "77b60077-cc00-4da7-8445-66d056584790",
   "metadata": {},
   "source": [
    "# Ans : 7"
   ]
  },
  {
   "cell_type": "code",
   "execution_count": null,
   "id": "7d9a3349-78d3-41f1-83e1-4834e19719f4",
   "metadata": {},
   "outputs": [],
   "source": [
    "'''\n",
    "Interpretation: By analyzing the false positives and false negatives, you can determine if your model is more prone to certain types of\n",
    "errors (e.g., misclassifying positive instances as negative or vice versa).\n",
    "\n",
    "'''"
   ]
  },
  {
   "cell_type": "markdown",
   "id": "e60811af-2bae-490e-b8c2-1790425fc4d4",
   "metadata": {},
   "source": [
    "# Ans : 9"
   ]
  },
  {
   "cell_type": "code",
   "execution_count": null,
   "id": "4cd0dc88-4b0f-4f9e-8780-15f178b00cba",
   "metadata": {},
   "outputs": [],
   "source": [
    "'''\n",
    "Relationship: Accuracy is the proportion of true results (both true positives and true negatives) among the total number of cases examined,\n",
    "derived directly from the values in the confusion matrix.\n",
    "\n",
    "'''"
   ]
  },
  {
   "cell_type": "markdown",
   "id": "60cb6f53-40d5-42a5-b96f-4bdfd11cf9a3",
   "metadata": {},
   "source": [
    "# Ans : 10"
   ]
  },
  {
   "cell_type": "code",
   "execution_count": null,
   "id": "e53afffc-99e6-4220-b30d-934bfcf9ebd3",
   "metadata": {},
   "outputs": [],
   "source": [
    "'''\n",
    "Identify Biases: Analyze the distribution of false positives and false negatives across different classes. Disproportionate errors can indicate model\n",
    "bias towards certain classes or imbalanced datasets.\n",
    "'''"
   ]
  }
 ],
 "metadata": {
  "kernelspec": {
   "display_name": "Python 3 (ipykernel)",
   "language": "python",
   "name": "python3"
  },
  "language_info": {
   "codemirror_mode": {
    "name": "ipython",
    "version": 3
   },
   "file_extension": ".py",
   "mimetype": "text/x-python",
   "name": "python",
   "nbconvert_exporter": "python",
   "pygments_lexer": "ipython3",
   "version": "3.10.8"
  }
 },
 "nbformat": 4,
 "nbformat_minor": 5
}
